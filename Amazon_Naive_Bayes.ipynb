{
  "nbformat": 4,
  "nbformat_minor": 0,
  "metadata": {
    "colab": {
      "provenance": []
    },
    "kernelspec": {
      "name": "python3",
      "display_name": "Python 3"
    },
    "language_info": {
      "name": "python"
    }
  },
  "cells": [
    {
      "cell_type": "code",
      "source": [
        "from google.colab import drive\n",
        "drive.mount('/content/drive')"
      ],
      "metadata": {
        "colab": {
          "base_uri": "https://localhost:8080/"
        },
        "id": "fNjcYFPqUMkl",
        "outputId": "e6ad39c5-bde6-4358-929f-f92c1f29a652"
      },
      "execution_count": null,
      "outputs": [
        {
          "output_type": "stream",
          "name": "stdout",
          "text": [
            "Drive already mounted at /content/drive; to attempt to forcibly remount, call drive.mount(\"/content/drive\", force_remount=True).\n"
          ]
        }
      ]
    },
    {
      "cell_type": "code",
      "execution_count": 1,
      "metadata": {
        "colab": {
          "base_uri": "https://localhost:8080/"
        },
        "id": "3BdKv73iT6ev",
        "outputId": "38ed9f5b-32df-41fa-f260-07c6df8961ba"
      },
      "outputs": [
        {
          "output_type": "stream",
          "name": "stdout",
          "text": [
            "   Label  Number_of_words  Number_of_sentences  Number_of_caps  \\\n",
            "0      0         0.002822             0.010152        0.001144   \n",
            "1      0         0.020106             0.015228        0.002859   \n",
            "2      0         0.014109             0.030457        0.003431   \n",
            "3      0         0.010582             0.020305        0.004002   \n",
            "4      0         0.019400             0.015228        0.002859   \n",
            "\n",
            "   Number_of_punctuation  Number_of_nouns  Number_of_verbs  \\\n",
            "0               0.005357         0.005908         0.009615   \n",
            "1               0.012500         0.026588         0.025000   \n",
            "2               0.017857         0.013294         0.023077   \n",
            "3               0.008929         0.013294         0.019231   \n",
            "4               0.010714         0.023634         0.019231   \n",
            "\n",
            "   Number_of_adjectives  Number_of_adverbs  Average_word_length  ...  \\\n",
            "0              0.007663           0.009174             0.123009  ...   \n",
            "1              0.038314           0.022936             0.200208  ...   \n",
            "2              0.030651           0.022936             0.092044  ...   \n",
            "3              0.011494           0.018349             0.104161  ...   \n",
            "4              0.022989           0.022936             0.102568  ...   \n",
            "\n",
            "   positive_score  negative_score  neutral_score  positive_words  \\\n",
            "0           0.217           0.000          0.783        0.018519   \n",
            "1           0.137           0.060          0.803        0.018519   \n",
            "2           0.165           0.053          0.782        0.055556   \n",
            "3           0.099           0.000          0.901        0.009259   \n",
            "4           0.116           0.000          0.884        0.027778   \n",
            "\n",
            "   negative_words  neutral_words  polarity_shifters  intensity_modifiers  \\\n",
            "0        0.000000       0.004542           0.000000             0.012987   \n",
            "1        0.014085       0.022296           0.055556             0.012987   \n",
            "2        0.000000       0.014038           0.055556             0.038961   \n",
            "3        0.000000       0.011974           0.000000             0.038961   \n",
            "4        0.000000       0.021057           0.000000             0.012987   \n",
            "\n",
            "   negations  emoticons  \n",
            "0   0.000000        0.0  \n",
            "1   0.040816        0.0  \n",
            "2   0.061224        0.0  \n",
            "3   0.020408        0.0  \n",
            "4   0.000000        0.0  \n",
            "\n",
            "[5 rows x 25 columns]\n"
          ]
        }
      ],
      "source": [
        "import pandas as pd\n",
        "import numpy as np\n",
        "\n",
        "df = pd.read_json('/content/drive/MyDrive/VADER_normalized.json')\n",
        "\n",
        "print(df.head())"
      ]
    },
    {
      "cell_type": "code",
      "source": [
        "import seaborn as sns\n",
        "import matplotlib.pyplot as plt\n",
        "from sklearn.metrics import confusion_matrix\n",
        "from sklearn.model_selection import train_test_split, cross_val_score\n",
        "from sklearn.naive_bayes import GaussianNB  # Use MultinomialNB if the features are counts\n",
        "from sklearn.metrics import classification_report\n",
        "import numpy as np\n",
        "\n",
        "\n",
        "X = df.drop(columns=['Label'])\n",
        "y = df['Label']\n",
        "\n",
        "\n",
        "X = X.fillna(X.mean())\n",
        "\n",
        "X_train, X_test, y_train, y_test = train_test_split(X, y, test_size=0.2, random_state=None)\n",
        "\n",
        "# Create Naive Bayes model\n",
        "model = GaussianNB()\n",
        "\n",
        "model.fit(X_train, y_train)\n",
        "\n",
        "# Predict on the test set\n",
        "y_pred = model.predict(X_test)\n",
        "\n",
        "cm = confusion_matrix(y_test, y_pred)\n",
        "\n",
        "plt.figure(figsize=(8, 6))\n",
        "sns.heatmap(cm, annot=True, fmt='d', cmap='Blues', xticklabels=['Fake', 'Real'], yticklabels=['Fake', 'Real'])\n",
        "plt.title('Confusion Matrix Heatmap')\n",
        "plt.xlabel('Predicted')\n",
        "plt.ylabel('True')\n",
        "plt.show()\n",
        "\n",
        "print(\"\\nClassification Report:\")\n",
        "print(classification_report(y_test, y_pred))\n",
        "\n",
        "cv_scores = cross_val_score(model, X, y, cv=10)\n",
        "\n",
        "print(f\"10-fold Cross Validation Accuracy: {cv_scores.mean():.4f} ± {cv_scores.std():.4f}\")"
      ],
      "metadata": {
        "colab": {
          "base_uri": "https://localhost:8080/",
          "height": 772
        },
        "id": "ZGG4zGrwUXLc",
        "outputId": "311faf23-32dc-4d54-e8d8-41fe8a40e751"
      },
      "execution_count": 3,
      "outputs": [
        {
          "output_type": "display_data",
          "data": {
            "text/plain": [
              "<Figure size 800x600 with 2 Axes>"
            ],
            "image/png": "[encoded data removed]"
          },
          "metadata": {}
        },
        {
          "output_type": "stream",
          "name": "stdout",
          "text": [
            "\n",
            "Classification Report:\n",
            "              precision    recall  f1-score   support\n",
            "\n",
            "           0       0.52      0.92      0.67      2084\n",
            "           1       0.70      0.18      0.28      2116\n",
            "\n",
            "    accuracy                           0.55      4200\n",
            "   macro avg       0.61      0.55      0.48      4200\n",
            "weighted avg       0.61      0.55      0.47      4200\n",
            "\n",
            "10-fold Cross Validation Accuracy: 0.5456 ± 0.0408\n"
          ]
        }
      ]
    }
  ]
}
